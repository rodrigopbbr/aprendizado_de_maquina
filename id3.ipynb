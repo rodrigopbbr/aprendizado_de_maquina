{
  "nbformat": 4,
  "nbformat_minor": 0,
  "metadata": {
    "colab": {
      "name": "id3.ipynb",
      "provenance": [],
      "include_colab_link": true
    },
    "kernelspec": {
      "name": "python3",
      "display_name": "Python 3"
    },
    "language_info": {
      "name": "python"
    }
  },
  "cells": [
    {
      "cell_type": "markdown",
      "metadata": {
        "id": "view-in-github",
        "colab_type": "text"
      },
      "source": [
        "<a href=\"https://colab.research.google.com/github/rodrigopbbr/aprendizado_de_maquina/blob/main/id3.ipynb\" target=\"_parent\"><img src=\"https://colab.research.google.com/assets/colab-badge.svg\" alt=\"Open In Colab\"/></a>"
      ]
    },
    {
      "cell_type": "code",
      "metadata": {
        "id": "spICumRvFowa"
      },
      "source": [
        "# biblioteca para manipulação de dados\n",
        "import pandas as pd\n",
        "# biblioteca para operações matemáticas\n",
        "import numpy as np\n",
        "# biblioteca para operações aleatórias\n",
        "# biblioteca para carregar arquivos (e.g. csv)\n",
        "from google.colab import files\n",
        "from collections import Counter"
      ],
      "execution_count": null,
      "outputs": []
    },
    {
      "cell_type": "code",
      "metadata": {
        "colab": {
          "resources": {
            "http://localhost:8080/nbextensions/google.colab/files.js": {
              "data": "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",
              "ok": true,
              "headers": [
                [
                  "content-type",
                  "application/javascript"
                ]
              ],
              "status": 200,
              "status_text": ""
            }
          },
          "base_uri": "https://localhost:8080/",
          "height": 111
        },
        "id": "YLS8foxbGWCY",
        "outputId": "53a347a7-c552-4ddb-afd8-b1f2709a84d6"
      },
      "source": [
        "files.upload()"
      ],
      "execution_count": null,
      "outputs": [
        {
          "output_type": "display_data",
          "data": {
            "text/html": [
              "\n",
              "     <input type=\"file\" id=\"files-8310683c-027a-4a07-9ca5-19ff9e707c89\" name=\"files[]\" multiple disabled\n",
              "        style=\"border:none\" />\n",
              "     <output id=\"result-8310683c-027a-4a07-9ca5-19ff9e707c89\">\n",
              "      Upload widget is only available when the cell has been executed in the\n",
              "      current browser session. Please rerun this cell to enable.\n",
              "      </output>\n",
              "      <script src=\"/nbextensions/google.colab/files.js\"></script> "
            ],
            "text/plain": [
              "<IPython.core.display.HTML object>"
            ]
          },
          "metadata": {}
        },
        {
          "output_type": "stream",
          "name": "stdout",
          "text": [
            "Saving jogar-tenis-2.csv to jogar-tenis-2.csv\n"
          ]
        },
        {
          "output_type": "execute_result",
          "data": {
            "text/plain": [
              "{'jogar-tenis-2.csv': b'Tempo;Temperatura;Umidade;Vento;Jogar\\nEnsolarado;Quente;Alta;Fraco;N\\xc3\\xa3o\\nEnsolarado;Quente;Alta;Forte;N\\xc3\\xa3o\\nNublado;Quente;Alta;Fraco;Sim\\nChuvoso;Intermedi\\xc3\\xa1ria;Alta;Fraco;Sim\\nChuvoso;Fria;Normal;Fraco;Sim\\nChuvoso;Fria;Normal;Forte;N\\xc3\\xa3o\\nNublado;Fria;Normal;Forte;Sim\\nEnsolarado;Intermedi\\xc3\\xa1ria;Alta;Fraco;N\\xc3\\xa3o\\nEnsolarado;Fria;Normal;Fraco;Sim\\nChuvoso;Intermedi\\xc3\\xa1ria;Normal;Fraco;Sim\\nEnsolarado;Intermedi\\xc3\\xa1ria;Normal;Forte;Sim\\nNublado;Intermedi\\xc3\\xa1ria;Alta;Forte;Sim\\nNublado;Quente;Normal;Fraco;Sim\\nChuvoso;Intermedi\\xc3\\xa1ria;Alta;Forte;N\\xc3\\xa3o\\n'}"
            ]
          },
          "metadata": {},
          "execution_count": 2
        }
      ]
    },
    {
      "cell_type": "code",
      "metadata": {
        "colab": {
          "base_uri": "https://localhost:8080/",
          "height": 488
        },
        "id": "vMh-Red5GeXv",
        "outputId": "64325df6-1864-4f59-e53a-7e00c424f738"
      },
      "source": [
        "# carregando o conjunto de dados iris (https://pt.wikipedia.org/wiki/Conjunto_de_dados_flor_Iris)\n",
        "dataset = pd.read_csv('jogar-tenis-2.csv', sep=\";\")\n",
        "# visualizando parte dos dados\n",
        "dataset"
      ],
      "execution_count": null,
      "outputs": [
        {
          "output_type": "execute_result",
          "data": {
            "text/html": [
              "<div>\n",
              "<style scoped>\n",
              "    .dataframe tbody tr th:only-of-type {\n",
              "        vertical-align: middle;\n",
              "    }\n",
              "\n",
              "    .dataframe tbody tr th {\n",
              "        vertical-align: top;\n",
              "    }\n",
              "\n",
              "    .dataframe thead th {\n",
              "        text-align: right;\n",
              "    }\n",
              "</style>\n",
              "<table border=\"1\" class=\"dataframe\">\n",
              "  <thead>\n",
              "    <tr style=\"text-align: right;\">\n",
              "      <th></th>\n",
              "      <th>Tempo</th>\n",
              "      <th>Temperatura</th>\n",
              "      <th>Umidade</th>\n",
              "      <th>Vento</th>\n",
              "      <th>Jogar</th>\n",
              "    </tr>\n",
              "  </thead>\n",
              "  <tbody>\n",
              "    <tr>\n",
              "      <th>0</th>\n",
              "      <td>Ensolarado</td>\n",
              "      <td>Quente</td>\n",
              "      <td>Alta</td>\n",
              "      <td>Fraco</td>\n",
              "      <td>Não</td>\n",
              "    </tr>\n",
              "    <tr>\n",
              "      <th>1</th>\n",
              "      <td>Ensolarado</td>\n",
              "      <td>Quente</td>\n",
              "      <td>Alta</td>\n",
              "      <td>Forte</td>\n",
              "      <td>Não</td>\n",
              "    </tr>\n",
              "    <tr>\n",
              "      <th>2</th>\n",
              "      <td>Nublado</td>\n",
              "      <td>Quente</td>\n",
              "      <td>Alta</td>\n",
              "      <td>Fraco</td>\n",
              "      <td>Sim</td>\n",
              "    </tr>\n",
              "    <tr>\n",
              "      <th>3</th>\n",
              "      <td>Chuvoso</td>\n",
              "      <td>Intermediária</td>\n",
              "      <td>Alta</td>\n",
              "      <td>Fraco</td>\n",
              "      <td>Sim</td>\n",
              "    </tr>\n",
              "    <tr>\n",
              "      <th>4</th>\n",
              "      <td>Chuvoso</td>\n",
              "      <td>Fria</td>\n",
              "      <td>Normal</td>\n",
              "      <td>Fraco</td>\n",
              "      <td>Sim</td>\n",
              "    </tr>\n",
              "    <tr>\n",
              "      <th>5</th>\n",
              "      <td>Chuvoso</td>\n",
              "      <td>Fria</td>\n",
              "      <td>Normal</td>\n",
              "      <td>Forte</td>\n",
              "      <td>Não</td>\n",
              "    </tr>\n",
              "    <tr>\n",
              "      <th>6</th>\n",
              "      <td>Nublado</td>\n",
              "      <td>Fria</td>\n",
              "      <td>Normal</td>\n",
              "      <td>Forte</td>\n",
              "      <td>Sim</td>\n",
              "    </tr>\n",
              "    <tr>\n",
              "      <th>7</th>\n",
              "      <td>Ensolarado</td>\n",
              "      <td>Intermediária</td>\n",
              "      <td>Alta</td>\n",
              "      <td>Fraco</td>\n",
              "      <td>Não</td>\n",
              "    </tr>\n",
              "    <tr>\n",
              "      <th>8</th>\n",
              "      <td>Ensolarado</td>\n",
              "      <td>Fria</td>\n",
              "      <td>Normal</td>\n",
              "      <td>Fraco</td>\n",
              "      <td>Sim</td>\n",
              "    </tr>\n",
              "    <tr>\n",
              "      <th>9</th>\n",
              "      <td>Chuvoso</td>\n",
              "      <td>Intermediária</td>\n",
              "      <td>Normal</td>\n",
              "      <td>Fraco</td>\n",
              "      <td>Sim</td>\n",
              "    </tr>\n",
              "    <tr>\n",
              "      <th>10</th>\n",
              "      <td>Ensolarado</td>\n",
              "      <td>Intermediária</td>\n",
              "      <td>Normal</td>\n",
              "      <td>Forte</td>\n",
              "      <td>Sim</td>\n",
              "    </tr>\n",
              "    <tr>\n",
              "      <th>11</th>\n",
              "      <td>Nublado</td>\n",
              "      <td>Intermediária</td>\n",
              "      <td>Alta</td>\n",
              "      <td>Forte</td>\n",
              "      <td>Sim</td>\n",
              "    </tr>\n",
              "    <tr>\n",
              "      <th>12</th>\n",
              "      <td>Nublado</td>\n",
              "      <td>Quente</td>\n",
              "      <td>Normal</td>\n",
              "      <td>Fraco</td>\n",
              "      <td>Sim</td>\n",
              "    </tr>\n",
              "    <tr>\n",
              "      <th>13</th>\n",
              "      <td>Chuvoso</td>\n",
              "      <td>Intermediária</td>\n",
              "      <td>Alta</td>\n",
              "      <td>Forte</td>\n",
              "      <td>Não</td>\n",
              "    </tr>\n",
              "  </tbody>\n",
              "</table>\n",
              "</div>"
            ],
            "text/plain": [
              "         Tempo    Temperatura Umidade  Vento Jogar\n",
              "0   Ensolarado         Quente    Alta  Fraco   Não\n",
              "1   Ensolarado         Quente    Alta  Forte   Não\n",
              "2      Nublado         Quente    Alta  Fraco   Sim\n",
              "3      Chuvoso  Intermediária    Alta  Fraco   Sim\n",
              "4      Chuvoso           Fria  Normal  Fraco   Sim\n",
              "5      Chuvoso           Fria  Normal  Forte   Não\n",
              "6      Nublado           Fria  Normal  Forte   Sim\n",
              "7   Ensolarado  Intermediária    Alta  Fraco   Não\n",
              "8   Ensolarado           Fria  Normal  Fraco   Sim\n",
              "9      Chuvoso  Intermediária  Normal  Fraco   Sim\n",
              "10  Ensolarado  Intermediária  Normal  Forte   Sim\n",
              "11     Nublado  Intermediária    Alta  Forte   Sim\n",
              "12     Nublado         Quente  Normal  Fraco   Sim\n",
              "13     Chuvoso  Intermediária    Alta  Forte   Não"
            ]
          },
          "metadata": {},
          "execution_count": 3
        }
      ]
    },
    {
      "cell_type": "code",
      "metadata": {
        "id": "rIG6s0kwLuDc"
      },
      "source": [
        "# separando o rótulo Species (Aprendizado de Máquina Supervisionado) dos demais atributos: y\n",
        "y = dataset['Jogar']\n",
        "dataset = dataset.drop(['Jogar'], axis = 1)"
      ],
      "execution_count": null,
      "outputs": []
    },
    {
      "cell_type": "code",
      "metadata": {
        "id": "OLpnZVfnNuW1"
      },
      "source": [
        "class ID3:\n",
        "  def __init__(self, att):        \n",
        "    self.atributo = att\n",
        "    self.filhos = []\n",
        "    self.arestas = []\n",
        "\n",
        "  def add_filho(self, f):\n",
        "    self.filhos.append(f)\n",
        "\n",
        "  def add_aresta(self, a):\n",
        "    self.arestas.append(a)\n",
        "\n",
        "  def get_arestas(self):\n",
        "    return self.arestas\n",
        "\n",
        "  def get_filhos(self):\n",
        "    return self.filhos\n",
        "\n",
        "  def get_atributo(self):\n",
        "    return self.atributo\n",
        "\n",
        "  def set_filhos(self, f):\n",
        "    self.filhos = f\n",
        "\n",
        "  def set_arestas(self, a):\n",
        "    self.arestas = a\n",
        "\n",
        "  def print_filhos(self):\n",
        "    for i in self.filhos:\n",
        "      print(f\"{i.get_atributo()}\")\n",
        "\n",
        "  def print_arestas(self):\n",
        "    print(f\"{self.arestas}\")\n",
        "\n",
        "  def print_arvore(self, tab):\n",
        "    print(\"|\", end='')\n",
        "    for i in np.arange(tab):\n",
        "      print(\"__\", end='')\n",
        "    print(f\"{self.get_atributo()}\")\n",
        "    for i in np.arange(len(self.get_filhos())):\n",
        "      self.get_filhos()[i].print_arvore(tab=tab+1)"
      ],
      "execution_count": null,
      "outputs": []
    },
    {
      "cell_type": "code",
      "metadata": {
        "id": "xUwynbQzGUIS"
      },
      "source": [
        "def entropia (valor):\n",
        "  ent = 0\n",
        "  if 0 in valor:\n",
        "    valor.remove(0)\n",
        "  if len(valor) > 1:\n",
        "    p = np.array(valor)/np.sum(valor)\n",
        "    ent = np.sum(p*np.log2(p))*(-1)\n",
        "  return ent\n"
      ],
      "execution_count": null,
      "outputs": []
    },
    {
      "cell_type": "code",
      "metadata": {
        "id": "aAdJOlrOIi_x"
      },
      "source": [
        "def ganho_informacao(atributo, classe):\n",
        "  valores = list(Counter(atributo).keys())\n",
        "  ganho = []\n",
        "  for i in np.arange(len(valores)):    \n",
        "    sv = list(Counter(classe.iloc[np.where(atributo == valores[i])]).values())\n",
        "    ganho.append(entropia(sv)*np.sum(sv)/len(classe))\n",
        "  return entropia(list(Counter(classe).values()))-np.sum(ganho)\n"
      ],
      "execution_count": null,
      "outputs": []
    },
    {
      "cell_type": "code",
      "metadata": {
        "id": "5-pZMYJdVrQH"
      },
      "source": [
        "def fit(X, y, min = 1):\n",
        "\n",
        "  if len(y) <= min:\n",
        "    id3 = ID3(max(Counter(y)))\n",
        "  elif len(Counter(y)) == 1:\n",
        "    id3 = ID3(list(Counter(y).keys())[0])\n",
        "  else:\n",
        "    ganhos = []\n",
        "    for i in np.arange(X.shape[1]):\n",
        "      ganhos.append(ganho_informacao(X.iloc[:,i], y))\n",
        "\n",
        "    best_att = np.argmax(ganhos)\n",
        "    id3 = ID3(X.columns[best_att])\n",
        "    id3.set_arestas(list(Counter(X.iloc[:,best_att]).keys()))\n",
        "\n",
        "    for i in id3.get_arestas():\n",
        "      X_sub = X.iloc[np.where(X.iloc[:, best_att] == i)]\n",
        "      X_sub = X_sub.drop(X_sub.columns[best_att], axis = 1) \n",
        "      y_sub = y.iloc[np.where(X.iloc[:, best_att] == i)]   \n",
        "      \n",
        "      id3.add_filho(fit(X_sub, y_sub))\n",
        "\n",
        "  return id3"
      ],
      "execution_count": null,
      "outputs": []
    },
    {
      "cell_type": "code",
      "metadata": {
        "id": "Gjddv4wEUyB2"
      },
      "source": [
        "def predict(arvore, consulta):\n",
        "  if len(arvore.get_filhos()) == 0:\n",
        "    print(f\"{arvore.get_atributo()}\")\n",
        "  else:\n",
        "    filho = arvore.get_arestas().index(consulta[arvore.get_atributo()])\n",
        "    predict(arvore.get_filhos()[filho], consulta)\n"
      ],
      "execution_count": null,
      "outputs": []
    },
    {
      "cell_type": "code",
      "metadata": {
        "id": "IeUGmo1vYUVI"
      },
      "source": [
        "clf = fit(dataset, y)"
      ],
      "execution_count": null,
      "outputs": []
    },
    {
      "cell_type": "code",
      "metadata": {
        "colab": {
          "base_uri": "https://localhost:8080/"
        },
        "id": "D70QL30EKfso",
        "outputId": "bb3c1390-69f1-47c0-92cd-e39f5b0c8940"
      },
      "source": [
        "clf.print_arvore(1)"
      ],
      "execution_count": null,
      "outputs": [
        {
          "output_type": "stream",
          "name": "stdout",
          "text": [
            "|__Tempo\n",
            "|____Umidade\n",
            "|______Não\n",
            "|______Sim\n",
            "|____Sim\n",
            "|____Vento\n",
            "|______Sim\n",
            "|______Não\n"
          ]
        }
      ]
    },
    {
      "cell_type": "code",
      "metadata": {
        "colab": {
          "base_uri": "https://localhost:8080/"
        },
        "id": "t5lmczHlU7g_",
        "outputId": "6b07170d-a55d-4bfe-d074-570b6c85b98b"
      },
      "source": [
        "# Tempo = ens\tTemperatura\tUmidade\tVento\n",
        "consulta = dataset.iloc[0]\n",
        "\n",
        "consulta['Tempo'] = 'Ensolarado'\n",
        "consulta['Temperatura'] = 'Quente'\n",
        "consulta['Umidade'] = 'Normal'\n",
        "consulta['Vento'] = 'Fraco'\n",
        "\n",
        "#print(f\"{consulta}\")\n",
        "print(\"---predição---\")\n",
        "predict(clf, consulta)"
      ],
      "execution_count": null,
      "outputs": [
        {
          "output_type": "stream",
          "name": "stdout",
          "text": [
            "---predição---\n",
            "Sim\n"
          ]
        }
      ]
    },
    {
      "cell_type": "code",
      "metadata": {
        "colab": {
          "base_uri": "https://localhost:8080/"
        },
        "id": "Wv5ZuTLNXTDt",
        "outputId": "d829fd9a-5c17-4c74-fb64-6e1c1c4f56ad"
      },
      "source": [
        "consulta['Tempo'] = 'Ensolarado'\n",
        "consulta['Temperatura'] = 'Quente'\n",
        "consulta['Umidade'] = 'Alta'\n",
        "consulta['Vento'] = 'Fraco'\n",
        "\n",
        "#print(f\"{consulta}\")\n",
        "print(\"---predição---\")\n",
        "predict(clf, consulta)"
      ],
      "execution_count": null,
      "outputs": [
        {
          "output_type": "stream",
          "name": "stdout",
          "text": [
            "---predição---\n",
            "Não\n"
          ]
        }
      ]
    },
    {
      "cell_type": "code",
      "metadata": {
        "colab": {
          "base_uri": "https://localhost:8080/"
        },
        "id": "n9vaLnswXv73",
        "outputId": "09c197d4-b9d0-4b44-cf38-ad582071f183"
      },
      "source": [
        "consulta['Tempo'] = 'Nublado'\n",
        "consulta['Temperatura'] = 'Quente'\n",
        "consulta['Umidade'] = 'Normal'\n",
        "consulta['Vento'] = 'Fraco'\n",
        "\n",
        "#print(f\"{consulta}\")\n",
        "print(\"---predição---\")\n",
        "predict(clf, consulta)"
      ],
      "execution_count": null,
      "outputs": [
        {
          "output_type": "stream",
          "name": "stdout",
          "text": [
            "---predição---\n",
            "Sim\n"
          ]
        }
      ]
    },
    {
      "cell_type": "code",
      "metadata": {
        "colab": {
          "base_uri": "https://localhost:8080/"
        },
        "id": "Y_svD_y-YfQ5",
        "outputId": "d26e58e8-9311-41fa-a80b-2c1edc16f49e"
      },
      "source": [
        "consulta['Tempo'] = 'Chuvoso'\n",
        "consulta['Temperatura'] = 'Quente'\n",
        "consulta['Umidade'] = 'Normal'\n",
        "consulta['Vento'] = 'Fraco'\n",
        "\n",
        "#print(f\"{consulta}\")\n",
        "print(\"---predição---\")\n",
        "predict(clf, consulta)"
      ],
      "execution_count": null,
      "outputs": [
        {
          "output_type": "stream",
          "name": "stdout",
          "text": [
            "---predição---\n",
            "Sim\n"
          ]
        }
      ]
    },
    {
      "cell_type": "code",
      "metadata": {
        "colab": {
          "base_uri": "https://localhost:8080/"
        },
        "id": "5f_1M20SYuJg",
        "outputId": "d43b273e-7c85-4207-fc46-50bd997e50bb"
      },
      "source": [
        "consulta['Tempo'] = 'Chuvoso'\n",
        "consulta['Temperatura'] = 'Quente'\n",
        "consulta['Umidade'] = 'Normal'\n",
        "consulta['Vento'] = 'Forte'\n",
        "\n",
        "#print(f\"{consulta}\")\n",
        "print(\"---predição---\")\n",
        "predict(clf, consulta)"
      ],
      "execution_count": null,
      "outputs": [
        {
          "output_type": "stream",
          "name": "stdout",
          "text": [
            "---predição---\n",
            "Não\n"
          ]
        }
      ]
    }
  ]
}